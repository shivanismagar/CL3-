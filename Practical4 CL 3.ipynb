{
 "cells": [
  {
   "cell_type": "markdown",
   "id": "b618e479",
   "metadata": {},
   "source": [
    "#### Ass 4 : Simulate requests between client and server using load balancing algorithms. "
   ]
  },
  {
   "cell_type": "code",
   "execution_count": 10,
   "id": "08f164ce",
   "metadata": {},
   "outputs": [
    {
     "name": "stdout",
     "output_type": "stream",
     "text": [
      "Request 1: Round Robin - Server Server A\n",
      "Random - Server Server C\n",
      "\n",
      "Request 2: Round Robin - Server Server B\n",
      "Random - Server Server B\n",
      "\n",
      "Request 3: Round Robin - Server Server C\n",
      "Random - Server Server B\n",
      "\n",
      "Request 4: Round Robin - Server Server A\n",
      "Random - Server Server C\n",
      "\n",
      "Request 5: Round Robin - Server Server B\n",
      "Random - Server Server C\n",
      "\n",
      "Request 6: Round Robin - Server Server C\n",
      "Random - Server Server B\n",
      "\n",
      "Request 7: Round Robin - Server Server A\n",
      "Random - Server Server B\n",
      "\n",
      "Request 8: Round Robin - Server Server B\n",
      "Random - Server Server C\n",
      "\n",
      "Request 9: Round Robin - Server Server C\n",
      "Random - Server Server A\n",
      "\n",
      "Request 10: Round Robin - Server Server A\n",
      "Random - Server Server B\n",
      "\n"
     ]
    }
   ],
   "source": [
    "import random\n",
    "\n",
    "class LoadBalancer:\n",
    "    def __init__(self, servers):\n",
    "        self.servers = servers\n",
    "        self.server_index_rr = 0  # Index for round-robin scheduling\n",
    "\n",
    "    def round_robin(self):\n",
    "        \"\"\"Implements Round Robin load balancing.\"\"\"\n",
    "        server = self.servers[self.server_index_rr]\n",
    "        self.server_index_rr = (self.server_index_rr + 1) % len(self.servers)\n",
    "        return server\n",
    "\n",
    "    def random_selection(self):\n",
    "        \"\"\"Implements Random load balancing.\"\"\"\n",
    "        return random.choice(self.servers)\n",
    "\n",
    "def simulate_client_requests(load_balancer, num_requests):\n",
    "    \"\"\"Simulates client requests using both Round Robin and Random selection.\"\"\"\n",
    "    for i in range(num_requests):\n",
    "        print(f\"Request {i+1}: \", end=\"\")\n",
    "\n",
    "        # Using Round Robin algorithm for load balancing\n",
    "        server_rr = load_balancer.round_robin()\n",
    "        print(f\"Round Robin - Server {server_rr}\")\n",
    "\n",
    "        # Using Random algorithm for load balancing\n",
    "        server_random = load_balancer.random_selection()\n",
    "        print(f\"Random - Server {server_random}\\n\")\n",
    "\n",
    "if __name__ == \"__main__\":\n",
    "    # List of servers\n",
    "    servers = [\"Server A\", \"Server B\", \"Server C\"]\n",
    "\n",
    "    # Create a LoadBalancer instance\n",
    "    load_balancer = LoadBalancer(servers)\n",
    "\n",
    "    # Simulate 10 client requests\n",
    "    simulate_client_requests(load_balancer, 10)\n"
   ]
  },
  {
   "cell_type": "code",
   "execution_count": null,
   "id": "9c2f2e8a",
   "metadata": {},
   "outputs": [],
   "source": []
  }
 ],
 "metadata": {
  "kernelspec": {
   "display_name": "Python 3 (ipykernel)",
   "language": "python",
   "name": "python3"
  },
  "language_info": {
   "codemirror_mode": {
    "name": "ipython",
    "version": 3
   },
   "file_extension": ".py",
   "mimetype": "text/x-python",
   "name": "python",
   "nbconvert_exporter": "python",
   "pygments_lexer": "ipython3",
   "version": "3.11.5"
  }
 },
 "nbformat": 4,
 "nbformat_minor": 5
}

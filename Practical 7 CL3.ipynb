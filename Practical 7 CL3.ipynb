{
 "cells": [
  {
   "cell_type": "code",
   "execution_count": 1,
   "id": "e1557dff-2add-4dd7-a8f2-6f31fdf645b0",
   "metadata": {},
   "outputs": [
    {
     "name": "stdout",
     "output_type": "stream",
     "text": [
      "Accuracy: 0.05\n"
     ]
    }
   ],
   "source": [
    "# Artificial Immune Pattern recognition\n",
    "\n",
    "\n",
    "\n",
    "\n",
    "import numpy as np\n",
    "\n",
    "# Generate dummy data for demonstration purposes (replace this with actual data)\n",
    "def generate_dummy_data(samples=100, features=10):\n",
    "    data = np.random.rand(samples, features)\n",
    "    labels = np.random.randint(0, 2, size=samples)\n",
    "    return data, labels\n",
    "\n",
    "# Define the AIRS algorithm\n",
    "class AIRS:\n",
    "    def __init__(self, num_detectors=10, hypermutation_rate=0.1):\n",
    "        self.num_detectors = num_detectors\n",
    "        self.hypermutation_rate = hypermutation_rate\n",
    "        self.detectors = None\n",
    "\n",
    "    def train(self, X, y):\n",
    "        self.detectors = X[np.random.choice(len(X), self.num_detectors, replace=False)]\n",
    "\n",
    "    def predict(self, X):\n",
    "        predictions = []\n",
    "        for sample in X:\n",
    "            distances = np.linalg.norm(self.detectors - sample, axis=1)\n",
    "            prediction = int(np.argmin(distances))  # Assign label based on closest detector\n",
    "            predictions.append(prediction)\n",
    "        return np.array(predictions)  # Convert list to NumPy array\n",
    "\n",
    "# Generate dummy data\n",
    "data, labels = generate_dummy_data()\n",
    "\n",
    "# Split data into training and testing sets\n",
    "split_ratio = 0.8\n",
    "split_index = int(split_ratio * len(data))\n",
    "train_data, test_data = data[:split_index], data[split_index:]\n",
    "train_labels, test_labels = labels[:split_index], labels[split_index:]\n",
    "\n",
    "# Initialize and train AIRS\n",
    "airs = AIRS(num_detectors=10, hypermutation_rate=0.1)\n",
    "airs.train(train_data, train_labels)\n",
    "\n",
    "# Test AIRS on the test set\n",
    "predictions = airs.predict(test_data)\n",
    "\n",
    "# Evaluate accuracy\n",
    "accuracy = np.mean(predictions == test_labels)\n",
    "print(f\"Accuracy: {accuracy:.2f}\")\n"
   ]
  },
  {
   "cell_type": "code",
   "execution_count": 5,
   "id": "849e16e0-c301-4ce7-a83c-a6b56c92c966",
   "metadata": {},
   "outputs": [
    {
     "name": "stdout",
     "output_type": "stream",
     "text": [
      "Accuracy: 0.05\n"
     ]
    }
   ],
   "source": [
    "import numpy as np\n",
    "\n",
    "def generate_dummy_data(samples=100, features=10):\n",
    "    data= np.random.rand(samples, features)\n",
    "    labels= np.random.randint(0,2,size= samples)\n",
    "    return data , labels\n",
    "\n",
    "class AIRS :\n",
    "    def __init__(self, num_detectors=10, hypermutation_rate=0.1):\n",
    "        self.num_detectors= num_detectors\n",
    "        self.hypermutation_rate= hypermutation_rate\n",
    "        self.detectors = None\n",
    "        \n",
    "    def train(self, X, Y):\n",
    "        self.detectors= X[np.random.choice(len(X), self.num_detectors, replace= False)]\n",
    "        \n",
    "    def predict(self, X):\n",
    "        predictions = []\n",
    "        for sample in X:\n",
    "            distances= np.linalg.norm(self.detectors - sample, axis=1)\n",
    "            prediction= int(np.argmin(distances))\n",
    "            predictions.append(prediction)\n",
    "         \n",
    "        return np.array(predictions)\n",
    "    \n",
    "data, labels = generate_dummy_data()\n",
    "\n",
    "split_ration= 0.8\n",
    "split_index= int(split_ratio * len(data))\n",
    "train_data , test_data= data [ :split_index], data[split_index:]     \n",
    "train_labels, test_labels = labels [:split_index], labels[split_index:]\n",
    "\n",
    "airs = AIRS(num_detectors= 10, hypermutation_rate=0.1)\n",
    "airs.train(train_data, train_labels)\n",
    "predictions= airs.predict(test_data)\n",
    "\n",
    "accuracy= np.mean(predictions== test_labels)\n",
    "print(f\"Accuracy: {accuracy:.2f}\")\n",
    "    "
   ]
  },
  {
   "cell_type": "code",
   "execution_count": 11,
   "id": "3103a54c-8221-49d8-a030-b517ca11330b",
   "metadata": {},
   "outputs": [
    {
     "name": "stdout",
     "output_type": "stream",
     "text": [
      "Accuracy : 0.15\n"
     ]
    }
   ],
   "source": [
    "import numpy as np\n",
    "\n",
    "def generate_dummy_data(samples=100, features=10):\n",
    "    data = np.random.rand(samples , features)\n",
    "    labels = np.random.randint(0,2,size= samples)\n",
    "    return data, labels\n",
    "\n",
    "class AIRS :\n",
    "    def __init__(self, num_detectors= 100, hypermutation_rate= 0.1):\n",
    "        self.num_detectors= num_detectors\n",
    "        self.hypermutation_rate= hypermutation_rate\n",
    "        self.detectors= None\n",
    "        \n",
    "    def train(self, X, Y):\n",
    "        self.detectors= X[np.random.choice(len(X),self.num_detectors, replace= False)]\n",
    "        \n",
    "    def predict(self, X):\n",
    "        predictions= []\n",
    "        for sample in X:\n",
    "            distances= np.linalg.norm(self.detectors - sample, axis=1)\n",
    "            prediction = int(np.argmin(distances))\n",
    "            predictions.append(prediction)\n",
    "        return np.array(predictions)\n",
    "    \n",
    "data, labels = generate_dummy_data()\n",
    "\n",
    "split_ratio = 0.8\n",
    "split_index= int(split_ratio * len(data))\n",
    "train_data, test_data= data [:split_index], data [split_index:]\n",
    "train_labels, test_labels = labels[:split_index], labels[split_index:]\n",
    "\n",
    "airs= AIRS(num_detectors=10, hypermutation_rate=0.1)\n",
    "airs.train(train_data, train_labels)\n",
    "predictions= airs.predict(test_data)\n",
    "\n",
    "accuracy= np.mean(predictions == test_labels)\n",
    "print(f\"Accuracy : {accuracy :.2f}\")"
   ]
  },
  {
   "cell_type": "code",
   "execution_count": 13,
   "id": "821081f5",
   "metadata": {},
   "outputs": [
    {
     "name": "stdout",
     "output_type": "stream",
     "text": [
      "Accuracy : 0.10\n"
     ]
    }
   ],
   "source": [
    "import numpy as np\n",
    "\n",
    "def generate_dummy_data(samples= 100, features= 10):\n",
    "    data = np.random.rand(samples, features)\n",
    "    labels= np.random.randint(0,2,size= samples)\n",
    "    return data , labels\n",
    "\n",
    "class AIRS:\n",
    "    def __init__(self, num_detectors=10, hypermutation_rate=0.1):\n",
    "        self.num_detectors= num_detectors\n",
    "        self.hypermutation_rate= hypermutation_rate\n",
    "        self.detectors= None\n",
    "        \n",
    "    def train(self, X, Y):\n",
    "        self.detectors= X[np.random.choice(len(X), self.num_detectors, replace= False)]\n",
    "        \n",
    "    def predict(self, X):\n",
    "        predictions= []\n",
    "        for sample in X:\n",
    "            distances= np.linalg.norm(self.detectors - sample, axis=1)\n",
    "            prediction= int(np.argmin(distances))\n",
    "            predictions.append(prediction)\n",
    "        return np.array(predictions)\n",
    "    \n",
    "data , labels= generate_dummy_data()\n",
    "\n",
    "split_ratio= 0.8\n",
    "split_index = int(split_ratio * len(data))\n",
    "train_data, test_data= data[:split_index], data[split_index:]\n",
    "train_labels, test_labels= labels[:split_index], labels[split_index:]\n",
    "\n",
    "airs= AIRS(num_detectors=10, hypermutation_rate=0.1)\n",
    "airs.train(train_data, train_labels)\n",
    "predictions= airs.predict(test_data)\n",
    "\n",
    "accuracy= np.mean(predictions == test_labels)\n",
    "print(f\"Accuracy : {accuracy:.2f}\")"
   ]
  },
  {
   "cell_type": "code",
   "execution_count": 18,
   "id": "b4488ac0",
   "metadata": {},
   "outputs": [
    {
     "name": "stdout",
     "output_type": "stream",
     "text": [
      "Accuracy: 0.00\n"
     ]
    }
   ],
   "source": [
    "import numpy as np\n",
    "\n",
    "def generate_dummy_data(samples= 100, features=10):\n",
    "    data = np.random.rand(samples, features)\n",
    "    labels = np.random.randint(0,2,size= samples)\n",
    "    return data, labels\n",
    "\n",
    "class AIRS :\n",
    "    def __init__(self, num_detectors= 10, hypermutation_rate=0.1):\n",
    "        self.num_detectors= num_detectors\n",
    "        self.hypermutation_rate= hypermutation_rate\n",
    "        self.detectors= None\n",
    "        \n",
    "    def train(self, X, Y):\n",
    "        self.detectors= X[np.random.choice(len(X), self.num_detectors, replace= False)]\n",
    "        \n",
    "    def predict(self, X):\n",
    "        predictions=[]\n",
    "        for sample in X:\n",
    "            distances = np.linalg.norm(self.detectors - sample, axis=1)\n",
    "            prediction = int(np.argmin(distances))\n",
    "            predictions.append(prediction)\n",
    "            return np.array(predictions)\n",
    "        \n",
    "data, labels = generate_dummy_data()\n",
    "\n",
    "split_ratio= 0.8 \n",
    "split_index = int(split_ration * len(data))\n",
    "train_data, test_data= data[:split_index], data[split_index:]\n",
    "train_labels, test_labels= labels[:split_index], labels[split_index:]\n",
    "\n",
    "airs = AIRS(num_detectors= 10, hypermutation_rate= 0.1)\n",
    "airs.train(train_data, test_data)\n",
    "predictions= airs.predict(test_data)\n",
    "accuracy = np.mean(predictions == test_labels)\n",
    "\n",
    "print(f\"Accuracy: {accuracy:.2f}\")"
   ]
  },
  {
   "cell_type": "code",
   "execution_count": null,
   "id": "bba93227",
   "metadata": {},
   "outputs": [],
   "source": []
  }
 ],
 "metadata": {
  "kernelspec": {
   "display_name": "Python 3 (ipykernel)",
   "language": "python",
   "name": "python3"
  },
  "language_info": {
   "codemirror_mode": {
    "name": "ipython",
    "version": 3
   },
   "file_extension": ".py",
   "mimetype": "text/x-python",
   "name": "python",
   "nbconvert_exporter": "python",
   "pygments_lexer": "ipython3",
   "version": "3.11.5"
  }
 },
 "nbformat": 4,
 "nbformat_minor": 5
}

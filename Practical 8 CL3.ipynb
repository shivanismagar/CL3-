{
 "cells": [
  {
   "cell_type": "code",
   "execution_count": 1,
   "id": "ea8f66a1-ba76-4bc2-8fd8-730e80f37fd3",
   "metadata": {},
   "outputs": [
    {
     "name": "stdout",
     "output_type": "stream",
     "text": [
      "Collecting deapNote: you may need to restart the kernel to use updated packages.\n",
      "\n",
      "  Obtaining dependency information for deap from https://files.pythonhosted.org/packages/e9/bd/654aa594a0ac14063fe591c3339062441eeda3815017e2f66d0b762cccb0/deap-1.4.2-cp311-cp311-win_amd64.whl.metadata\n",
      "  Downloading deap-1.4.2-cp311-cp311-win_amd64.whl.metadata (13 kB)\n",
      "Requirement already satisfied: numpy in c:\\programdata\\anaconda3\\lib\\site-packages (from deap) (1.24.3)\n",
      "Downloading deap-1.4.2-cp311-cp311-win_amd64.whl (109 kB)\n",
      "   ---------------------------------------- 0.0/109.8 kB ? eta -:--:--\n",
      "   --- ------------------------------------ 10.2/109.8 kB ? eta -:--:--\n",
      "   ---------- ---------------------------- 30.7/109.8 kB 435.7 kB/s eta 0:00:01\n",
      "   ---------- ---------------------------- 30.7/109.8 kB 435.7 kB/s eta 0:00:01\n",
      "   --------------------- ----------------- 61.4/109.8 kB 409.6 kB/s eta 0:00:01\n",
      "   ----------------------------- --------- 81.9/109.8 kB 512.0 kB/s eta 0:00:01\n",
      "   -------------------------------------- 109.8/109.8 kB 454.7 kB/s eta 0:00:00\n",
      "Installing collected packages: deap\n",
      "Successfully installed deap-1.4.2\n"
     ]
    }
   ],
   "source": [
    "pip install deap"
   ]
  },
  {
   "cell_type": "markdown",
   "id": "cf05fd58",
   "metadata": {},
   "source": [
    "## Implemenet DEAP Using python"
   ]
  },
  {
   "cell_type": "code",
   "execution_count": 15,
   "id": "36793077-85b2-45e7-a7e2-ae91ea329873",
   "metadata": {},
   "outputs": [
    {
     "name": "stdout",
     "output_type": "stream",
     "text": [
      "Best Parameters: [45, 4]\n"
     ]
    }
   ],
   "source": [
    "import random\n",
    "from deap import base, creator, tools, algorithms\n",
    "\n",
    "# Define evaluation function (replace this with your actual evaluation function)\n",
    "def evaluate(individual):\n",
    "    # 'individual' represents the parameters for the neural network\n",
    "    # Replace this with an actual evaluation function that trains the neural network\n",
    "    # and evaluates its performance. Here, a random fitness value is returned as an example.\n",
    "    return random.random(),  # Fitness must be a tuple\n",
    "\n",
    "# Define genetic algorithm parameters\n",
    "POPULATION_SIZE = 10\n",
    "GENERATIONS = 5\n",
    "\n",
    "# Create types for fitness and individuals in the genetic algorithm\n",
    "creator.create(\"FitnessMin\", base.Fitness, weights=(-1.0,))  # Minimize the fitness\n",
    "creator.create(\"Individual\", list, fitness=creator.FitnessMin)\n",
    "\n",
    "# Initialize toolbox\n",
    "toolbox = base.Toolbox()\n",
    "\n",
    "# Define attributes and individuals\n",
    "toolbox.register(\"attr_neurons\", random.randint, 1, 100)  # Example: number of neurons\n",
    "toolbox.register(\"attr_layers\", random.randint, 1, 5)  # Example: number of layers\n",
    "toolbox.register(\"individual\", tools.initCycle, creator.Individual, \n",
    "                 (toolbox.attr_neurons, toolbox.attr_layers), n=1)\n",
    "toolbox.register(\"population\", tools.initRepeat, list, toolbox.individual)\n",
    "\n",
    "# Genetic operators\n",
    "toolbox.register(\"evaluate\", evaluate)\n",
    "toolbox.register(\"mate\", tools.cxTwoPoint)\n",
    "toolbox.register(\"mutate\", tools.mutUniformInt, low=1, up=100, indpb=0.2)\n",
    "toolbox.register(\"select\", tools.selTournament, tournsize=3)\n",
    "\n",
    "# Create initial population\n",
    "population = toolbox.population(n=POPULATION_SIZE)\n",
    "\n",
    "# Run the genetic algorithm\n",
    "for gen in range(GENERATIONS):\n",
    "    offspring = algorithms.varAnd(population, toolbox, cxpb=0.5, mutpb=0.1)\n",
    "\n",
    "    fitnesses = list(map(toolbox.evaluate, offspring))\n",
    "    for ind, fit in zip(offspring, fitnesses):\n",
    "        ind.fitness.values = fit\n",
    "\n",
    "    population = toolbox.select(offspring, k=len(population))\n",
    "\n",
    "# Get the best individual from the final population\n",
    "best_individual = tools.selBest(population, k=1)[0]\n",
    "best_params = best_individual\n",
    "\n",
    "# Print the best parameters found\n",
    "print(\"Best Parameters:\", best_params)\n"
   ]
  },
  {
   "cell_type": "code",
   "execution_count": 16,
   "id": "cec35508-f897-4f93-a41f-aeb26d66fd93",
   "metadata": {},
   "outputs": [
    {
     "name": "stdout",
     "output_type": "stream",
     "text": [
      "best parameters: [1, 1]\n"
     ]
    }
   ],
   "source": [
    "import random \n",
    "from deap import base, creator, tools, algorithms\n",
    "\n",
    "def evaluate(individual):\n",
    "    return random.random()\n",
    "\n",
    "POPULATION_SIZE = 10\n",
    "GENERATIONS =5\n",
    "\n",
    "creator.create(\"Fitnessmin\", base.Fitness, weights=(-1.0))\n",
    "creator.create(\"Individual\", list, fitness= creator.FitnessMin)\n",
    "\n",
    "toolbox= base.Toolbox()\n",
    "\n",
    "toolbox.register(\"attr_neuron\", random.randint, 1,10)\n",
    "toolbox.register(\"attr_layers\", random.randint,1,5)\n",
    "toolbox.register(\"individual\", tools.initCycle, creator.Individual,(toolbox.attr_neuron, toolbox.attr_layers), n=1)\n",
    "toolbox.register(\"population\", tools.initRepeat, list , toolbox.individual)\n",
    "\n",
    "toolbox.register(\"evaluate\", evaluate)\n",
    "toolbox.register(\"mate\", tools.cxTwoPoint)\n",
    "toolbox.register(\"mutate\",tools.mutUniformInt, low=1, up=100, indpb=0.2)\n",
    "toolbox.register(\"select\", tools.selTournament, tournsize=3)\n",
    "\n",
    "population= toolbox.population(n=POPULATION_SIZE)\n",
    "\n",
    "for gen in range(GENERATIONS):\n",
    "    offspring= algorithms.varAnd(population, toolbox, cxpb=0.5, mutpb = 0.1)\n",
    "    \n",
    "    fitnesses = list(map(toolbox.evaluate, offspring))\n",
    "    for ind , fit in zip (offspring , fitnesses):\n",
    "        ind.fitness.value= fit\n",
    "        \n",
    "    population = toolbox.select(offspring, k= len(population))\n",
    "    \n",
    "best_individual= tools.selBest(population , k=1)[0]\n",
    "best_params= best_individual\n",
    "\n",
    "print(\"best parameters:\", best_params)"
   ]
  },
  {
   "cell_type": "code",
   "execution_count": 17,
   "id": "7af6c7fe",
   "metadata": {},
   "outputs": [
    {
     "name": "stdout",
     "output_type": "stream",
     "text": [
      "best parameters: [9, 1]\n"
     ]
    }
   ],
   "source": [
    "import random \n",
    "from deap import base, creator, tools, algorithms\n",
    "\n",
    "def evaluate(individual):\n",
    "    return random.random()\n",
    "\n",
    "POPULATION_SIZE = 10\n",
    "GENERATIONS =5\n",
    "\n",
    "creator.create(\"Fitnessmin\", base.Fitness, weights=(-1.0))\n",
    "creator.create(\"Individual\", list, fitness= creator.FitnessMin)\n",
    "\n",
    "toolbox= base.Toolbox()\n",
    "\n",
    "toolbox.register(\"attr_neuron\", random.randint, 1,10)\n",
    "toolbox.register(\"attr_layers\", random.randint,1,5)\n",
    "toolbox.register(\"individual\", tools.initCycle, creator.Individual,(toolbox.attr_neuron, toolbox.attr_layers), n=1)\n",
    "toolbox.register(\"population\", tools.initRepeat, list , toolbox.individual)\n",
    "\n",
    "toolbox.register(\"evaluate\", evaluate)\n",
    "toolbox.register(\"mate\", tools.cxTwoPoint)\n",
    "toolbox.register(\"mutate\",tools.mutUniformInt, low=1, up=100, indpb=0.2)\n",
    "toolbox.register(\"select\", tools.selTournament, tournsize=3)\n",
    "\n",
    "population= toolbox.population(n=POPULATION_SIZE)\n",
    "\n",
    "for gen in range(GENERATIONS):\n",
    "    offspring= algorithms.varAnd(population, toolbox, cxpb=0.5, mutpb = 0.1)\n",
    "    \n",
    "    fitnesses = list(map(toolbox.evaluate, offspring))\n",
    "    for ind , fit in zip (offspring , fitnesses):\n",
    "        ind.fitness.value= fit\n",
    "        \n",
    "    population = toolbox.select(offspring, k= len(population))\n",
    "    \n",
    "best_individual= tools.selBest(population , k=1)[0]\n",
    "best_params= best_individual\n",
    "\n",
    "print(\"best parameters:\", best_params)"
   ]
  },
  {
   "cell_type": "code",
   "execution_count": null,
   "id": "078ab8fd",
   "metadata": {},
   "outputs": [],
   "source": []
  }
 ],
 "metadata": {
  "kernelspec": {
   "display_name": "Python 3 (ipykernel)",
   "language": "python",
   "name": "python3"
  },
  "language_info": {
   "codemirror_mode": {
    "name": "ipython",
    "version": 3
   },
   "file_extension": ".py",
   "mimetype": "text/x-python",
   "name": "python",
   "nbconvert_exporter": "python",
   "pygments_lexer": "ipython3",
   "version": "3.11.5"
  }
 },
 "nbformat": 4,
 "nbformat_minor": 5
}

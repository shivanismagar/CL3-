{
 "cells": [
  {
   "cell_type": "code",
   "execution_count": 5,
   "id": "a9c1c8e0-47ee-4720-a2a5-541d9d1c3236",
   "metadata": {},
   "outputs": [
    {
     "name": "stdout",
     "output_type": "stream",
     "text": [
      "Enter the number of cities: 4\n",
      "Enter the distance matrix (row by row, space-separated):\n",
      "0\n",
      "1\n",
      "2\n",
      "3\n"
     ]
    },
    {
     "name": "stderr",
     "output_type": "stream",
     "text": [
      "C:\\Users\\admin\\AppData\\Local\\Temp\\ipykernel_15112\\3734680635.py:19: RuntimeWarning: divide by zero encountered in divide\n",
      "  visibility = np.where(distance_matrix > 0, 1 / distance_matrix, 0)  # Avoid division by zero\n"
     ]
    },
    {
     "ename": "IndexError",
     "evalue": "index 1 is out of bounds for axis 0 with size 1",
     "output_type": "error",
     "traceback": [
      "\u001b[1;31m---------------------------------------------------------------------------\u001b[0m",
      "\u001b[1;31mIndexError\u001b[0m                                Traceback (most recent call last)",
      "Cell \u001b[1;32mIn[5], line 73\u001b[0m\n\u001b[0;32m     71\u001b[0m \u001b[38;5;66;03m# Get user input distance matrix\u001b[39;00m\n\u001b[0;32m     72\u001b[0m distance_matrix \u001b[38;5;241m=\u001b[39m get_distance_matrix()\n\u001b[1;32m---> 73\u001b[0m ant_colony_optimization(distance_matrix)\n",
      "Cell \u001b[1;32mIn[5], line 36\u001b[0m, in \u001b[0;36mant_colony_optimization\u001b[1;34m(distance_matrix, num_ants, num_iterations, evaporation_rate, pheromone_constant, heuristic_constant)\u001b[0m\n\u001b[0;32m     34\u001b[0m \u001b[38;5;28;01mif\u001b[39;00m city \u001b[38;5;129;01mnot\u001b[39;00m \u001b[38;5;129;01min\u001b[39;00m visited_cities:\n\u001b[0;32m     35\u001b[0m     pheromone_value \u001b[38;5;241m=\u001b[39m pheromone[current_city][city]\n\u001b[1;32m---> 36\u001b[0m     visibility_value \u001b[38;5;241m=\u001b[39m visibility[current_city][city]\n\u001b[0;32m     37\u001b[0m     probability \u001b[38;5;241m=\u001b[39m (pheromone_value \u001b[38;5;241m*\u001b[39m\u001b[38;5;241m*\u001b[39m pheromone_constant) \u001b[38;5;241m*\u001b[39m (visibility_value \u001b[38;5;241m*\u001b[39m\u001b[38;5;241m*\u001b[39m heuristic_constant)\n\u001b[0;32m     38\u001b[0m     probabilities\u001b[38;5;241m.\u001b[39mappend((city, probability))\n",
      "\u001b[1;31mIndexError\u001b[0m: index 1 is out of bounds for axis 0 with size 1"
     ]
    }
   ],
   "source": [
    "# Ant Colony Optimization\n",
    "\n",
    "\n",
    "import numpy as np\n",
    "import random\n",
    "\n",
    "def get_distance_matrix():\n",
    "    num_cities = int(input(\"Enter the number of cities: \"))\n",
    "    print(\"Enter the distance matrix (row by row, space-separated):\")\n",
    "    distance_matrix = []\n",
    "    for _ in range(num_cities):\n",
    "        row = list(map(int, input().split()))\n",
    "        distance_matrix.append(row)\n",
    "    return np.array(distance_matrix)\n",
    "\n",
    "def ant_colony_optimization(distance_matrix, num_ants=10, num_iterations=50, evaporation_rate=0.5, pheromone_constant=1.0, heuristic_constant=1.0):\n",
    "    num_cities = len(distance_matrix)\n",
    "    pheromone = np.ones((num_cities, num_cities))\n",
    "    visibility = np.where(distance_matrix > 0, 1 / distance_matrix, 0)  # Avoid division by zero\n",
    "    \n",
    "    best_route = None\n",
    "    shortest_distance = float('inf')\n",
    "    \n",
    "    for _ in range(num_iterations):\n",
    "        ant_routes = []\n",
    "        for _ in range(num_ants):\n",
    "            current_city = random.randint(0, num_cities - 1)\n",
    "            visited_cities = [current_city]\n",
    "            route = [current_city]\n",
    "            \n",
    "            while len(visited_cities) < num_cities:\n",
    "                probabilities = []\n",
    "                for city in range(num_cities):\n",
    "                    if city not in visited_cities:\n",
    "                        pheromone_value = pheromone[current_city][city]\n",
    "                        visibility_value = visibility[current_city][city]\n",
    "                        probability = (pheromone_value ** pheromone_constant) * (visibility_value ** heuristic_constant)\n",
    "                        probabilities.append((city, probability))\n",
    "                \n",
    "                if not probabilities:\n",
    "                    break\n",
    "                \n",
    "                probabilities = sorted(probabilities, key=lambda x: x[1], reverse=True)\n",
    "                selected_city = probabilities[0][0]\n",
    "                route.append(selected_city)\n",
    "                visited_cities.append(selected_city)\n",
    "                current_city = selected_city\n",
    "            \n",
    "            ant_routes.append(route)\n",
    "        \n",
    "        # Update pheromone levels\n",
    "        delta_pheromone = np.zeros((num_cities, num_cities))\n",
    "        for route in ant_routes:\n",
    "            for i in range(len(route) - 1):\n",
    "                city_a, city_b = route[i], route[i + 1]\n",
    "                delta_pheromone[city_a][city_b] += 1 / distance_matrix[city_a][city_b]\n",
    "                delta_pheromone[city_b][city_a] += 1 / distance_matrix[city_a][city_b]\n",
    "        \n",
    "        pheromone = (1 - evaporation_rate) * pheromone + delta_pheromone\n",
    "        \n",
    "        # Find the best route\n",
    "        for route in ant_routes:\n",
    "            distance = sum(distance_matrix[route[i]][route[(i + 1) % num_cities]] for i in range(num_cities))\n",
    "            if distance < shortest_distance:\n",
    "                shortest_distance = distance\n",
    "                best_route = route\n",
    "    \n",
    "    print(\"Best route:\", best_route)\n",
    "    print(\"Shortest distance:\", shortest_distance)\n",
    "\n",
    "# Get user input distance matrix\n",
    "distance_matrix = get_distance_matrix()\n",
    "ant_colony_optimization(distance_matrix)\n"
   ]
  },
  {
   "cell_type": "code",
   "execution_count": null,
   "id": "61785e50-264e-4cbf-8a88-c11e8066da19",
   "metadata": {},
   "outputs": [],
   "source": []
  }
 ],
 "metadata": {
  "kernelspec": {
   "display_name": "Python 3 (ipykernel)",
   "language": "python",
   "name": "python3"
  },
  "language_info": {
   "codemirror_mode": {
    "name": "ipython",
    "version": 3
   },
   "file_extension": ".py",
   "mimetype": "text/x-python",
   "name": "python",
   "nbconvert_exporter": "python",
   "pygments_lexer": "ipython3",
   "version": "3.11.5"
  }
 },
 "nbformat": 4,
 "nbformat_minor": 5
}
